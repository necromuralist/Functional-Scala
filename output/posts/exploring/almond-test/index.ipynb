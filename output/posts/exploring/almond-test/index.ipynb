{
 "cells": [
  {
   "cell_type": "markdown",
   "metadata": {},
   "source": [
    "# Scala In Jupyter"
   ]
  },
  {
   "cell_type": "markdown",
   "metadata": {},
   "source": [
    "This is a Test of [Almond](https://almond.sh/) which provides a Jupyter kernel for Scala. In this case I created the notebook as a post in nikola using this command:\n",
    "\n",
    "```\n",
    "nikola new_post -f ipynb@scala -t \"Almond Test\"\n",
    "```\n",
    "\n",
    "```@scala``` tells nikola which kernel to set (otherwise it defaults to the Python 3 kernel)."
   ]
  },
  {
   "cell_type": "markdown",
   "metadata": {},
   "source": [
    "## A Pizza Test"
   ]
  },
  {
   "cell_type": "markdown",
   "metadata": {},
   "source": [
    "This is from the book [Hello, Scala](https://alvinalexander.com/scala/hello-scala-introduction-to-scala-book) by Alvin Alexander. The page I linked to says that it's only available in physical format, but if you look in the \"Related\" section below it there's currently a post about the book being available as a PDF for free (which is the version I'm using). I bought his [Functional Programming Simplified](https://alvinalexander.com/scala/functional-programming-simplified-book) and will probably get his [Scala Cookbook](http://shop.oreilly.com/product/0636920026914.do) but since I'm not a Scala programmer I thought I'd start with this book."
   ]
  },
  {
   "cell_type": "markdown",
   "metadata": {},
   "source": [
    "### *Enumerations*"
   ]
  },
  {
   "cell_type": "code",
   "execution_count": 2,
   "metadata": {},
   "outputs": [
    {
     "data": {
      "text/plain": [
       "defined \u001b[32mtrait\u001b[39m \u001b[36mTopping\u001b[39m\n",
       "defined \u001b[32mobject\u001b[39m \u001b[36mCasuMarzu\u001b[39m\n",
       "defined \u001b[32mobject\u001b[39m \u001b[36mJuneBugs\u001b[39m\n",
       "defined \u001b[32mobject\u001b[39m \u001b[36mChapulines\u001b[39m\n",
       "defined \u001b[32mobject\u001b[39m \u001b[36mTofu\u001b[39m\n",
       "defined \u001b[32mobject\u001b[39m \u001b[36mAnchovies\u001b[39m"
      ]
     },
     "execution_count": 2,
     "metadata": {},
     "output_type": "execute_result"
    }
   ],
   "source": [
    "sealed trait Topping\n",
    "case object CasuMarzu extends Topping\n",
    "case object JuneBugs extends Topping\n",
    "case object Chapulines extends Topping\n",
    "case object Tofu extends Topping"
   ]
  },
  {
   "cell_type": "code",
   "execution_count": 3,
   "metadata": {},
   "outputs": [
    {
     "data": {
      "text/plain": [
       "defined \u001b[32mtrait\u001b[39m \u001b[36mCrustSize\u001b[39m\n",
       "defined \u001b[32mobject\u001b[39m \u001b[36mSmall\u001b[39m\n",
       "defined \u001b[32mobject\u001b[39m \u001b[36mMedium\u001b[39m\n",
       "defined \u001b[32mobject\u001b[39m \u001b[36mLarge\u001b[39m"
      ]
     },
     "execution_count": 3,
     "metadata": {},
     "output_type": "execute_result"
    }
   ],
   "source": [
    "sealed trait CrustSize\n",
    "case object Small extends CrustSize\n",
    "case object Medium extends CrustSize\n",
    "case object Large extends CrustSize"
   ]
  },
  {
   "cell_type": "code",
   "execution_count": 5,
   "metadata": {},
   "outputs": [
    {
     "data": {
      "text/plain": [
       "defined \u001b[32mtrait\u001b[39m \u001b[36mCrustType\u001b[39m\n",
       "defined \u001b[32mobject\u001b[39m \u001b[36mNeapolitan\u001b[39m\n",
       "defined \u001b[32mobject\u001b[39m \u001b[36mDeepDish\u001b[39m\n",
       "defined \u001b[32mobject\u001b[39m \u001b[36mSicilian\u001b[39m\n",
       "defined \u001b[32mobject\u001b[39m \u001b[36mCardboard\u001b[39m"
      ]
     },
     "execution_count": 5,
     "metadata": {},
     "output_type": "execute_result"
    }
   ],
   "source": [
    "sealed trait CrustType\n",
    "case object Neapolitan extends CrustType\n",
    "case object DeepDish extends CrustType\n",
    "case object Sicilian extends CrustType\n",
    "case object Cardboard extends CrustType"
   ]
  },
  {
   "cell_type": "markdown",
   "metadata": {},
   "source": [
    "### The Pizza Class"
   ]
  },
  {
   "cell_type": "code",
   "execution_count": 6,
   "metadata": {},
   "outputs": [
    {
     "data": {
      "text/plain": [
       "defined \u001b[32mclass\u001b[39m \u001b[36mPizza\u001b[39m"
      ]
     },
     "execution_count": 6,
     "metadata": {},
     "output_type": "execute_result"
    }
   ],
   "source": [
    "class Pizza (var crust_size: CrustSize=Medium, crust_type: CrustType=Cardboard ) {\n",
    "    val toppings = scala.collection.mutable.ArrayBuffer[Topping]()\n",
    "    \n",
    "    def add(topping: Topping): Unit = { toppings += topping }\n",
    "    def remove(topping: Topping): Unit = { toppings -= topping }\n",
    "    def clear_toppings(): Unit = toppings.clear()\n",
    "    override def toString(): String = {\n",
    "        s\"\"\"\n",
    "        |Crust Size: $crust_size\n",
    "        |Crust Type: $crust_type\n",
    "        |Toppings: $toppings\n",
    "        \"\"\".stripMargin\n",
    "    }\n",
    "}"
   ]
  },
  {
   "cell_type": "code",
   "execution_count": 8,
   "metadata": {},
   "outputs": [
    {
     "name": "stdout",
     "output_type": "stream",
     "text": [
      "\n",
      "Crust Size: Medium\n",
      "Crust Type: Sicilian\n",
      "Toppings: ArrayBuffer(Chapulines, CasuMarzu, Tofu)\n",
      "        \n"
     ]
    },
    {
     "data": {
      "text/plain": [
       "\u001b[36mpizza\u001b[39m: \u001b[32mPizza\u001b[39m = \n",
       "Crust Size: Medium\n",
       "Crust Type: Sicilian\n",
       "Toppings: ArrayBuffer(Chapulines, CasuMarzu, Tofu)\n",
       "        "
      ]
     },
     "execution_count": 8,
     "metadata": {},
     "output_type": "execute_result"
    }
   ],
   "source": [
    "val pizza = new Pizza(crust_type=Sicilian)\n",
    "pizza.add(Chapulines)\n",
    "pizza.add(CasuMarzu)\n",
    "pizza.add(Tofu)\n",
    "println(pizza)"
   ]
  },
  {
   "cell_type": "code",
   "execution_count": 9,
   "metadata": {},
   "outputs": [
    {
     "name": "stdout",
     "output_type": "stream",
     "text": [
      "\n",
      "Crust Size: Medium\n",
      "Crust Type: Sicilian\n",
      "Toppings: ArrayBuffer(Chapulines, CasuMarzu)\n",
      "        \n",
      "\n",
      "Crust Size: Large\n",
      "Crust Type: Sicilian\n",
      "Toppings: ArrayBuffer()\n",
      "        "
     ]
    }
   ],
   "source": [
    "pizza.remove(Tofu)\n",
    "println(pizza)\n",
    "pizza.clear_toppings()\n",
    "pizza.crust_size = Large\n",
    "print(pizza)"
   ]
  },
  {
   "cell_type": "markdown",
   "metadata": {},
   "source": [
    "## Conclusion\n",
    "This post is my first attempt to get scala into nikola. Along the way I created some enumerations using /sealed traits/ - there appears to be an Enumeration type, but that's not what the book used. I also showed the basicso of creating a class in Scala.\n",
    "\n",
    "Although the syntax is similar to the python that I'm used to, in some ways, the definition of the methods is still somewhat odd to me."
   ]
  },
  {
   "cell_type": "markdown",
   "metadata": {},
   "source": [
    "The next big thing would be to get it to work with [ob-ipython](https://github.com/gregsexton/ob-ipython) or maybe [emacs-jupyter](https://github.com/dzop/emacs-jupyter)."
   ]
  },
  {
   "cell_type": "code",
   "execution_count": null,
   "metadata": {},
   "outputs": [],
   "source": []
  }
 ],
 "metadata": {
  "kernelspec": {
   "display_name": "Scala",
   "language": "scala",
   "name": "scala"
  },
  "language_info": {
   "codemirror_mode": "text/x-scala",
   "file_extension": ".scala",
   "mimetype": "text/x-scala",
   "name": "scala",
   "nbconvert_exporter": "script",
   "version": "2.12.10"
  },
  "nikola": {
   "category": "",
   "date": "2019-12-08 17:44:05 UTC-08:00",
   "description": "",
   "link": "",
   "slug": "almond-test",
   "tags": "",
   "title": "Almond Test",
   "type": "text"
  }
 },
 "nbformat": 4,
 "nbformat_minor": 2
}
